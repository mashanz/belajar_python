{
 "cells": [
  {
   "cell_type": "markdown",
   "metadata": {},
   "source": [
    "# Pemrograman Pertama pada Python"
   ]
  },
  {
   "cell_type": "markdown",
   "metadata": {},
   "source": [
    "Setiap pemrograman pasti diawali dengan <b>Hello, World!</b><br>\n",
    "pada python, menuliskan program <b>Hello,World!</b> sangat mudah<br>\n",
    "yaitu dengan menggunakan perintah dari fungsi <b>print()</b>\n",
    "\n",
    "Berikut ini merupakan contoh penulisan <b>Hello, World!</b> pada python dengan fungsi <b>print()</b>"
   ]
  },
  {
   "cell_type": "code",
   "execution_count": 1,
   "metadata": {},
   "outputs": [
    {
     "name": "stdout",
     "output_type": "stream",
     "text": [
      "Hallo, Dunia!\n"
     ]
    }
   ],
   "source": [
    "print(\"Hallo, Dunia!\")"
   ]
  },
  {
   "cell_type": "markdown",
   "metadata": {},
   "source": [
    "pada kode di atas, terdapat sebuah fungsi <b>print()</b><br>\n",
    "dan sebuah argument atau input berupa string \"Hello, World!\"<br>\n",
    "\n",
    "```\n",
    "catatan: \n",
    "\n",
    "suatu fungsi memiliki 2 buah tujuan:\n",
    "1. Memberikan suatu efek\n",
    "2. Memberikan nilai balikan\n",
    "```"
   ]
  }
 ],
 "metadata": {
  "kernelspec": {
   "display_name": "Python 3",
   "language": "python",
   "name": "python3"
  },
  "language_info": {
   "codemirror_mode": {
    "name": "ipython",
    "version": 3
   },
   "file_extension": ".py",
   "mimetype": "text/x-python",
   "name": "python",
   "nbconvert_exporter": "python",
   "pygments_lexer": "ipython3",
   "version": "3.7.4"
  }
 },
 "nbformat": 4,
 "nbformat_minor": 4
}
