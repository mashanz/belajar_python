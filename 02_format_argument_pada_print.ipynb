{
 "cells": [
  {
   "cell_type": "markdown",
   "metadata": {},
   "source": [
    "# Format Argument atau input pada Fungsi print()\n",
    "\n",
    "Fungsi print memiliki banyak argumen yang dapat di-inputkan.<br>\n",
    "contohnya ketika ingin menuliskan berbagai macam string atau melakukan suatu operasi"
   ]
  },
  {
   "cell_type": "code",
   "execution_count": 1,
   "metadata": {},
   "outputs": [
    {
     "name": "stdout",
     "output_type": "stream",
     "text": [
      "Hallo, \n",
      "Selamat Pagi Dunia\n"
     ]
    }
   ],
   "source": [
    "print(\"Hallo, \")\n",
    "print(\"Selamat Pagi Dunia\")"
   ]
  },
  {
   "cell_type": "markdown",
   "metadata": {},
   "source": [
    "pada kode di atas terdapat 2 fungsi print<br>\n",
    "setiap print yang di jalankan akan menghasilkan output + <b>newline</b><br>\n",
    "jadi, default fungsi print akan menghasilkan tambahan output akhiran <b>new line</b>\n",
    "\n",
    "jika ingin merubah default akhiran dari fungsi print, cukup tambahkan argument <b>end=</b> AKHIRAN_YANG_INGIN_DIGUNAKAN<br>\n",
    "\n",
    "contoh:"
   ]
  },
  {
   "cell_type": "code",
   "execution_count": 2,
   "metadata": {},
   "outputs": [
    {
     "name": "stdout",
     "output_type": "stream",
     "text": [
      "Hallo, \n",
      "Selamat Pagi Dunia\n"
     ]
    }
   ],
   "source": [
    "print(\"Hallo, \", end=\"\\n\")\n",
    "print(\"Selamat Pagi Dunia\")"
   ]
  },
  {
   "cell_type": "markdown",
   "metadata": {},
   "source": [
    "kode di atas menghasilkan output yang sama dengan kode sebelumnya<br>\n",
    "karena default end of line pada fungsi print() adalah newline\n",
    "\n",
    "apabila kita rubah kodenya menjadi end=\"\" maka akan seperti ini:"
   ]
  },
  {
   "cell_type": "code",
   "execution_count": 3,
   "metadata": {},
   "outputs": [
    {
     "name": "stdout",
     "output_type": "stream",
     "text": [
      "Hallo, Selamat Pagi Dunia\n"
     ]
    }
   ],
   "source": [
    "print(\"Hallo, \", end=\"\")\n",
    "print(\"Selamat Pagi Dunia\")"
   ]
  },
  {
   "cell_type": "markdown",
   "metadata": {},
   "source": [
    "terlihat dari output di atas hanya menghasilan hanya sebuah line output<br>\n",
    "karena end of line nya adalah caracter kosong."
   ]
  },
  {
   "cell_type": "code",
   "execution_count": 4,
   "metadata": {},
   "outputs": [
    {
     "name": "stdout",
     "output_type": "stream",
     "text": [
      "Saya adalah seorang kapiten\n"
     ]
    }
   ],
   "source": [
    "print(\"Saya\", \"adalah\", \"seorang\", \"kapiten\")"
   ]
  },
  {
   "cell_type": "code",
   "execution_count": 5,
   "metadata": {},
   "outputs": [
    {
     "name": "stdout",
     "output_type": "stream",
     "text": [
      "Saya_adalah_seorang_kapiten\n"
     ]
    }
   ],
   "source": [
    "print(\"Saya\", \"adalah\", \"seorang\", \"kapiten\", sep=\"_\")"
   ]
  },
  {
   "cell_type": "code",
   "execution_count": 7,
   "metadata": {},
   "outputs": [
    {
     "name": "stdout",
     "output_type": "stream",
     "text": [
      "Balonkuada5ruparupawarnanya"
     ]
    }
   ],
   "source": [
    "print(\"Balonku\", \"ada\", 5, sep=\"\", end=\"\")\n",
    "print(\"rupa\"*2, \"warnanya\", sep=\"\", end=\"\")"
   ]
  }
 ],
 "metadata": {
  "kernelspec": {
   "display_name": "Python 3",
   "language": "python",
   "name": "python3"
  },
  "language_info": {
   "codemirror_mode": {
    "name": "ipython",
    "version": 3
   },
   "file_extension": ".py",
   "mimetype": "text/x-python",
   "name": "python",
   "nbconvert_exporter": "python",
   "pygments_lexer": "ipython3",
   "version": "3.7.4"
  }
 },
 "nbformat": 4,
 "nbformat_minor": 4
}
