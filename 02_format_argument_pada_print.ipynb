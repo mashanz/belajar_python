{
 "cells": [
  {
   "cell_type": "markdown",
   "metadata": {},
   "source": [
    "# 2. Format Argument atau input pada Fungsi print()\n",
    "\n",
    "Fungsi print memiliki banyak argumen yang dapat di-inputkan.<br>\n",
    "contohnya ketika ingin menuliskan berbagai macam string atau melakukan suatu operasi"
   ]
  },
  {
   "cell_type": "code",
   "execution_count": 1,
   "metadata": {},
   "outputs": [
    {
     "name": "stdout",
     "output_type": "stream",
     "text": [
      "Hallo, \n",
      "Selamat Pagi Dunia\n"
     ]
    }
   ],
   "source": [
    "print(\"Hallo, \")\n",
    "print(\"Selamat Pagi Dunia\")"
   ]
  },
  {
   "cell_type": "markdown",
   "metadata": {},
   "source": [
    "pada kode di atas terdapat 2 fungsi print<br>\n",
    "setiap print yang di jalankan akan menghasilkan output + <b>newline</b><br>\n",
    "jadi, default fungsi print akan menghasilkan tambahan output akhiran <b>new line</b>\n",
    "\n",
    "jika ingin merubah default akhiran dari fungsi print, cukup tambahkan argument <b>end=</b> AKHIRAN_YANG_INGIN_DIGUNAKAN<br>\n",
    "\n",
    "contoh:"
   ]
  },
  {
   "cell_type": "code",
   "execution_count": 2,
   "metadata": {},
   "outputs": [
    {
     "name": "stdout",
     "output_type": "stream",
     "text": [
      "Hallo, \n",
      "Selamat Pagi Dunia\n"
     ]
    }
   ],
   "source": [
    "print(\"Hallo, \", end=\"\\n\")\n",
    "print(\"Selamat Pagi Dunia\")"
   ]
  },
  {
   "cell_type": "markdown",
   "metadata": {},
   "source": [
    "kode di atas menghasilkan output yang sama dengan kode sebelumnya<br>\n",
    "karena default end of line pada fungsi print() adalah newline\n",
    "\n",
    "apabila kita rubah kodenya menjadi end=\"\" maka akan seperti ini:"
   ]
  },
  {
   "cell_type": "code",
   "execution_count": 3,
   "metadata": {},
   "outputs": [
    {
     "name": "stdout",
     "output_type": "stream",
     "text": [
      "Hallo, Selamat Pagi Dunia\n"
     ]
    }
   ],
   "source": [
    "print(\"Hallo, \", end=\"\")\n",
    "print(\"Selamat Pagi Dunia\")"
   ]
  },
  {
   "cell_type": "markdown",
   "metadata": {},
   "source": [
    "terlihat dari output di atas hanya menghasilan hanya sebuah line output<br>\n",
    "karena end of line nya adalah caracter kosong."
   ]
  },
  {
   "cell_type": "code",
   "execution_count": 4,
   "metadata": {},
   "outputs": [
    {
     "name": "stdout",
     "output_type": "stream",
     "text": [
      "Saya adalah seorang kapiten\n"
     ]
    }
   ],
   "source": [
    "print(\"Saya\", \"adalah\", \"seorang\", \"kapiten\")"
   ]
  },
  {
   "cell_type": "markdown",
   "metadata": {},
   "source": [
    "Fungsi print() juga bisa memiliki banyak input argument<br>\n",
    "terlihat dari kode `print(\"Saya\", \"adalah\", \"seorang\", \"kapiten\")` semua input <br>\n",
    "menjadi 1 baris dengan pemisah 1 spasi antar input"
   ]
  },
  {
   "cell_type": "code",
   "execution_count": 1,
   "metadata": {},
   "outputs": [
    {
     "name": "stdout",
     "output_type": "stream",
     "text": [
      "Sayaadalahseorangkapiten\n"
     ]
    }
   ],
   "source": [
    "print(\"Saya\", \"adalah\", \"seorang\", \"kapiten\", sep=\"\")"
   ]
  },
  {
   "cell_type": "markdown",
   "metadata": {},
   "source": [
    "Apabila kita berikan argumen `sep=\"\"` maka default spasi agan di ganti dengan karakter kosong"
   ]
  },
  {
   "cell_type": "code",
   "execution_count": 2,
   "metadata": {},
   "outputs": [
    {
     "name": "stdout",
     "output_type": "stream",
     "text": [
      "Balonku*ada*5ruparupa#warnanya"
     ]
    }
   ],
   "source": [
    "print(\"Balonku\", \"ada\", 5, sep=\"*\", end=\"\")\n",
    "print(\"rupa\"*2, \"warnanya\", sep=\"#\", end=\"\")"
   ]
  },
  {
   "cell_type": "markdown",
   "metadata": {},
   "source": [
    "kode di atas adalah perpaduan antara input, operasi, separator dan end of line dari fungsi `print()`"
   ]
  }
 ],
 "metadata": {
  "kernelspec": {
   "display_name": "Python 3",
   "language": "python",
   "name": "python3"
  },
  "language_info": {
   "codemirror_mode": {
    "name": "ipython",
    "version": 3
   },
   "file_extension": ".py",
   "mimetype": "text/x-python",
   "name": "python",
   "nbconvert_exporter": "python",
   "pygments_lexer": "ipython3",
   "version": "3.7.7"
  }
 },
 "nbformat": 4,
 "nbformat_minor": 4
}
